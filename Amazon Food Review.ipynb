{
 "cells": [
  {
   "cell_type": "markdown",
   "metadata": {
    "colab_type": "text",
    "id": "X-cp_kAxCAY2"
   },
   "source": [
    "# Amazon Fine Food Reviews Analysis\n",
    "\n",
    "\n",
    "Data Source: https://www.kaggle.com/snap/amazon-fine-food-reviews <br>\n",
    "\n",
    "\n",
    "The Amazon Fine Food Reviews dataset consists of reviews of fine foods from Amazon.<br>\n",
    "\n",
    "Number of reviews: 568,454<br>\n",
    "Number of users: 256,059<br>\n",
    "Number of products: 74,258<br>\n",
    "Timespan: Oct 1999 - Oct 2012<br>\n",
    "Number of Attributes/Columns in data: 10 \n",
    "\n",
    "Attribute Information:\n",
    "\n",
    "1. Id\n",
    "2. ProductId - unique identifier for the product\n",
    "3. UserId - unqiue identifier for the user\n",
    "4. ProfileName\n",
    "5. HelpfulnessNumerator - number of users who found the review helpful\n",
    "6. HelpfulnessDenominator - number of users who indicated whether they found the review helpful or not\n",
    "7. Score - rating between 1 and 5\n",
    "8. Time - timestamp for the review\n",
    "9. Summary - brief summary of the review\n",
    "10. Text - text of the review\n",
    "\n",
    "\n",
    "#### Objective:\n",
    "Given a review, determine whether the review is positive (Rating of 4 or 5) or negative (rating of 1 or 2).\n",
    "\n",
    "<br>\n",
    "[Q] How to determine if a review is positive or negative?<br>\n",
    "<br> \n",
    "[Ans] We could use the Score/Rating. A rating of 4 or 5 could be cosnidered a positive review. A review of 1 or 2 could be considered negative. A review of 3 is nuetral and ignored. This is an approximate and proxy way of determining the polarity (positivity/negativity) of a review.\n",
    "\n",
    "\n"
   ]
  },
  {
   "cell_type": "markdown",
   "metadata": {
    "colab_type": "text",
    "id": "WHC_UQTuCAY4"
   },
   "source": [
    "## Loading the data\n",
    "\n",
    "The dataset is available in two forms\n",
    "1. .csv file\n",
    "2. SQLite Database\n",
    "\n",
    "In order to load the data, I have used the SQLITE dataset as it easier to query the data and visualise the data efficiently.\n",
    "<br> \n",
    "\n",
    "Here as we only want to get the global sentiment of the recommendations (positive or negative), we will purposefully ignore all Scores equal to 3. If the score id above 3, then the recommendation is be set to \"positive\". Otherwise, it will be set to \"negative\"."
   ]
  },
  {
   "cell_type": "code",
   "execution_count": 1,
   "metadata": {
    "colab": {},
    "colab_type": "code",
    "id": "PvDdRsHgCAY5",
    "outputId": "65b237f2-2ead-4721-f95a-15ed0bb06d04"
   },
   "outputs": [],
   "source": [
    "%matplotlib inline\n",
    "import warnings\n",
    "warnings.filterwarnings(\"ignore\")\n",
    "\n",
    "import sqlite3\n",
    "import pandas as pd\n",
    "import numpy as np\n",
    "import nltk\n",
    "import string\n",
    "import matplotlib.pyplot as plt\n",
    "import seaborn as sns\n",
    "from sklearn.feature_extraction.text import TfidfTransformer\n",
    "from sklearn.feature_extraction.text import TfidfVectorizer\n",
    "\n",
    "from sklearn.feature_extraction.text import CountVectorizer\n",
    "from sklearn.metrics import confusion_matrix\n",
    "from sklearn import metrics\n",
    "from sklearn.metrics import roc_curve, auc\n",
    "from nltk.stem.porter import PorterStemmer\n",
    "\n",
    "import re\n",
    "# Tutorial about Python regular expressions: https://pymotw.com/2/re/\n",
    "import string\n",
    "from nltk.corpus import stopwords\n",
    "from nltk.stem import PorterStemmer\n",
    "from nltk.stem.wordnet import WordNetLemmatizer\n",
    "\n",
    "from gensim.models import Word2Vec\n",
    "from gensim.models import KeyedVectors\n",
    "import pickle\n",
    "\n",
    "from tqdm import tqdm\n",
    "import os"
   ]
  },
  {
   "cell_type": "markdown",
   "metadata": {
    "colab_type": "text",
    "id": "QOI7X2YgCAY_"
   },
   "source": [
    "# [1]. Reading Data"
   ]
  },
  {
   "cell_type": "code",
   "execution_count": 2,
   "metadata": {
    "colab": {},
    "colab_type": "code",
    "id": "3iYH2p1ECAZA",
    "outputId": "3feca330-8e21-4173-ad7c-88eb4d81668e"
   },
   "outputs": [
    {
     "name": "stdout",
     "output_type": "stream",
     "text": [
      "Number of data points in our data (5000, 10)\n"
     ]
    },
    {
     "data": {
      "text/html": [
       "<div>\n",
       "<style scoped>\n",
       "    .dataframe tbody tr th:only-of-type {\n",
       "        vertical-align: middle;\n",
       "    }\n",
       "\n",
       "    .dataframe tbody tr th {\n",
       "        vertical-align: top;\n",
       "    }\n",
       "\n",
       "    .dataframe thead th {\n",
       "        text-align: right;\n",
       "    }\n",
       "</style>\n",
       "<table border=\"1\" class=\"dataframe\">\n",
       "  <thead>\n",
       "    <tr style=\"text-align: right;\">\n",
       "      <th></th>\n",
       "      <th>Id</th>\n",
       "      <th>ProductId</th>\n",
       "      <th>UserId</th>\n",
       "      <th>ProfileName</th>\n",
       "      <th>HelpfulnessNumerator</th>\n",
       "      <th>HelpfulnessDenominator</th>\n",
       "      <th>Score</th>\n",
       "      <th>Time</th>\n",
       "      <th>Summary</th>\n",
       "      <th>Text</th>\n",
       "    </tr>\n",
       "  </thead>\n",
       "  <tbody>\n",
       "    <tr>\n",
       "      <th>0</th>\n",
       "      <td>1</td>\n",
       "      <td>B001E4KFG0</td>\n",
       "      <td>A3SGXH7AUHU8GW</td>\n",
       "      <td>delmartian</td>\n",
       "      <td>1</td>\n",
       "      <td>1</td>\n",
       "      <td>1</td>\n",
       "      <td>1303862400</td>\n",
       "      <td>Good Quality Dog Food</td>\n",
       "      <td>I have bought several of the Vitality canned d...</td>\n",
       "    </tr>\n",
       "    <tr>\n",
       "      <th>1</th>\n",
       "      <td>2</td>\n",
       "      <td>B00813GRG4</td>\n",
       "      <td>A1D87F6ZCVE5NK</td>\n",
       "      <td>dll pa</td>\n",
       "      <td>0</td>\n",
       "      <td>0</td>\n",
       "      <td>0</td>\n",
       "      <td>1346976000</td>\n",
       "      <td>Not as Advertised</td>\n",
       "      <td>Product arrived labeled as Jumbo Salted Peanut...</td>\n",
       "    </tr>\n",
       "    <tr>\n",
       "      <th>2</th>\n",
       "      <td>3</td>\n",
       "      <td>B000LQOCH0</td>\n",
       "      <td>ABXLMWJIXXAIN</td>\n",
       "      <td>Natalia Corres \"Natalia Corres\"</td>\n",
       "      <td>1</td>\n",
       "      <td>1</td>\n",
       "      <td>1</td>\n",
       "      <td>1219017600</td>\n",
       "      <td>\"Delight\" says it all</td>\n",
       "      <td>This is a confection that has been around a fe...</td>\n",
       "    </tr>\n",
       "    <tr>\n",
       "      <th>3</th>\n",
       "      <td>4</td>\n",
       "      <td>B000UA0QIQ</td>\n",
       "      <td>A395BORC6FGVXV</td>\n",
       "      <td>Karl</td>\n",
       "      <td>3</td>\n",
       "      <td>3</td>\n",
       "      <td>0</td>\n",
       "      <td>1307923200</td>\n",
       "      <td>Cough Medicine</td>\n",
       "      <td>If you are looking for the secret ingredient i...</td>\n",
       "    </tr>\n",
       "    <tr>\n",
       "      <th>4</th>\n",
       "      <td>5</td>\n",
       "      <td>B006K2ZZ7K</td>\n",
       "      <td>A1UQRSCLF8GW1T</td>\n",
       "      <td>Michael D. Bigham \"M. Wassir\"</td>\n",
       "      <td>0</td>\n",
       "      <td>0</td>\n",
       "      <td>1</td>\n",
       "      <td>1350777600</td>\n",
       "      <td>Great taffy</td>\n",
       "      <td>Great taffy at a great price.  There was a wid...</td>\n",
       "    </tr>\n",
       "  </tbody>\n",
       "</table>\n",
       "</div>"
      ],
      "text/plain": [
       "   Id   ProductId          UserId                      ProfileName  \\\n",
       "0   1  B001E4KFG0  A3SGXH7AUHU8GW                       delmartian   \n",
       "1   2  B00813GRG4  A1D87F6ZCVE5NK                           dll pa   \n",
       "2   3  B000LQOCH0   ABXLMWJIXXAIN  Natalia Corres \"Natalia Corres\"   \n",
       "3   4  B000UA0QIQ  A395BORC6FGVXV                             Karl   \n",
       "4   5  B006K2ZZ7K  A1UQRSCLF8GW1T    Michael D. Bigham \"M. Wassir\"   \n",
       "\n",
       "   HelpfulnessNumerator  HelpfulnessDenominator  Score        Time  \\\n",
       "0                     1                       1      1  1303862400   \n",
       "1                     0                       0      0  1346976000   \n",
       "2                     1                       1      1  1219017600   \n",
       "3                     3                       3      0  1307923200   \n",
       "4                     0                       0      1  1350777600   \n",
       "\n",
       "                 Summary                                               Text  \n",
       "0  Good Quality Dog Food  I have bought several of the Vitality canned d...  \n",
       "1      Not as Advertised  Product arrived labeled as Jumbo Salted Peanut...  \n",
       "2  \"Delight\" says it all  This is a confection that has been around a fe...  \n",
       "3         Cough Medicine  If you are looking for the secret ingredient i...  \n",
       "4            Great taffy  Great taffy at a great price.  There was a wid...  "
      ]
     },
     "execution_count": 2,
     "metadata": {},
     "output_type": "execute_result"
    }
   ],
   "source": [
    "\n",
    "# using the SQLite Table to read data.\n",
    "con = sqlite3.connect('database.sqlite') \n",
    "\n",
    "#filtering only positive and negative reviews i.e. \n",
    "# not taking into consideration those reviews with Score=3\n",
    "# SELECT * FROM Reviews WHERE Score != 3 LIMIT 500000, will give top 500000 data points\n",
    "# you can change the number to any other number based on your computing power\n",
    "\n",
    "filtered_data = pd.read_sql_query(\"\"\" SELECT * FROM Reviews WHERE Score != 3 LIMIT 5000\"\"\", con) \n",
    "\n",
    "# Give reviews with Score>3 a positive rating, and reviews with a score<3 a negative rating.\n",
    "def partition(x):\n",
    "    if x < 3:\n",
    "        return 0\n",
    "    return 1\n",
    "\n",
    "#changing reviews with score less than 3 to be positive and vice-versa\n",
    "actualScore = filtered_data['Score']\n",
    "positiveNegative = actualScore.map(partition) \n",
    "filtered_data['Score'] = positiveNegative\n",
    "print(\"Number of data points in our data\", filtered_data.shape)\n",
    "filtered_data.head()"
   ]
  },
  {
   "cell_type": "markdown",
   "metadata": {
    "colab_type": "text",
    "id": "TX5b3dc5CAZS"
   },
   "source": [
    "#  Exploratory Data Analysis\n",
    "\n",
    "## [2] Data Cleaning: Deduplication\n",
    "\n",
    "It is observed (as shown in the table below) that the reviews data had many duplicate entries. Hence it was necessary to remove duplicates in order to get unbiased results for the analysis of the data.  Following is an example:"
   ]
  },
  {
   "cell_type": "code",
   "execution_count": 3,
   "metadata": {
    "colab": {},
    "colab_type": "code",
    "id": "4jW_0WxCCAZT",
    "outputId": "4e526ab2-98f3-46ae-93dc-3e061cb06d59",
    "scrolled": false
   },
   "outputs": [
    {
     "data": {
      "text/html": [
       "<div>\n",
       "<style scoped>\n",
       "    .dataframe tbody tr th:only-of-type {\n",
       "        vertical-align: middle;\n",
       "    }\n",
       "\n",
       "    .dataframe tbody tr th {\n",
       "        vertical-align: top;\n",
       "    }\n",
       "\n",
       "    .dataframe thead th {\n",
       "        text-align: right;\n",
       "    }\n",
       "</style>\n",
       "<table border=\"1\" class=\"dataframe\">\n",
       "  <thead>\n",
       "    <tr style=\"text-align: right;\">\n",
       "      <th></th>\n",
       "      <th>Id</th>\n",
       "      <th>ProductId</th>\n",
       "      <th>UserId</th>\n",
       "      <th>ProfileName</th>\n",
       "      <th>HelpfulnessNumerator</th>\n",
       "      <th>HelpfulnessDenominator</th>\n",
       "      <th>Score</th>\n",
       "      <th>Time</th>\n",
       "      <th>Summary</th>\n",
       "      <th>Text</th>\n",
       "    </tr>\n",
       "  </thead>\n",
       "  <tbody>\n",
       "    <tr>\n",
       "      <th>0</th>\n",
       "      <td>78445</td>\n",
       "      <td>B000HDL1RQ</td>\n",
       "      <td>AR5J8UI46CURR</td>\n",
       "      <td>Geetha Krishnan</td>\n",
       "      <td>2</td>\n",
       "      <td>2</td>\n",
       "      <td>5</td>\n",
       "      <td>1199577600</td>\n",
       "      <td>LOACKER QUADRATINI VANILLA WAFERS</td>\n",
       "      <td>DELICIOUS WAFERS. I FIND THAT EUROPEAN WAFERS ...</td>\n",
       "    </tr>\n",
       "    <tr>\n",
       "      <th>1</th>\n",
       "      <td>138317</td>\n",
       "      <td>B000HDOPYC</td>\n",
       "      <td>AR5J8UI46CURR</td>\n",
       "      <td>Geetha Krishnan</td>\n",
       "      <td>2</td>\n",
       "      <td>2</td>\n",
       "      <td>5</td>\n",
       "      <td>1199577600</td>\n",
       "      <td>LOACKER QUADRATINI VANILLA WAFERS</td>\n",
       "      <td>DELICIOUS WAFERS. I FIND THAT EUROPEAN WAFERS ...</td>\n",
       "    </tr>\n",
       "    <tr>\n",
       "      <th>2</th>\n",
       "      <td>138277</td>\n",
       "      <td>B000HDOPYM</td>\n",
       "      <td>AR5J8UI46CURR</td>\n",
       "      <td>Geetha Krishnan</td>\n",
       "      <td>2</td>\n",
       "      <td>2</td>\n",
       "      <td>5</td>\n",
       "      <td>1199577600</td>\n",
       "      <td>LOACKER QUADRATINI VANILLA WAFERS</td>\n",
       "      <td>DELICIOUS WAFERS. I FIND THAT EUROPEAN WAFERS ...</td>\n",
       "    </tr>\n",
       "    <tr>\n",
       "      <th>3</th>\n",
       "      <td>73791</td>\n",
       "      <td>B000HDOPZG</td>\n",
       "      <td>AR5J8UI46CURR</td>\n",
       "      <td>Geetha Krishnan</td>\n",
       "      <td>2</td>\n",
       "      <td>2</td>\n",
       "      <td>5</td>\n",
       "      <td>1199577600</td>\n",
       "      <td>LOACKER QUADRATINI VANILLA WAFERS</td>\n",
       "      <td>DELICIOUS WAFERS. I FIND THAT EUROPEAN WAFERS ...</td>\n",
       "    </tr>\n",
       "    <tr>\n",
       "      <th>4</th>\n",
       "      <td>155049</td>\n",
       "      <td>B000PAQ75C</td>\n",
       "      <td>AR5J8UI46CURR</td>\n",
       "      <td>Geetha Krishnan</td>\n",
       "      <td>2</td>\n",
       "      <td>2</td>\n",
       "      <td>5</td>\n",
       "      <td>1199577600</td>\n",
       "      <td>LOACKER QUADRATINI VANILLA WAFERS</td>\n",
       "      <td>DELICIOUS WAFERS. I FIND THAT EUROPEAN WAFERS ...</td>\n",
       "    </tr>\n",
       "  </tbody>\n",
       "</table>\n",
       "</div>"
      ],
      "text/plain": [
       "       Id   ProductId         UserId      ProfileName  HelpfulnessNumerator  \\\n",
       "0   78445  B000HDL1RQ  AR5J8UI46CURR  Geetha Krishnan                     2   \n",
       "1  138317  B000HDOPYC  AR5J8UI46CURR  Geetha Krishnan                     2   \n",
       "2  138277  B000HDOPYM  AR5J8UI46CURR  Geetha Krishnan                     2   \n",
       "3   73791  B000HDOPZG  AR5J8UI46CURR  Geetha Krishnan                     2   \n",
       "4  155049  B000PAQ75C  AR5J8UI46CURR  Geetha Krishnan                     2   \n",
       "\n",
       "   HelpfulnessDenominator  Score        Time  \\\n",
       "0                       2      5  1199577600   \n",
       "1                       2      5  1199577600   \n",
       "2                       2      5  1199577600   \n",
       "3                       2      5  1199577600   \n",
       "4                       2      5  1199577600   \n",
       "\n",
       "                             Summary  \\\n",
       "0  LOACKER QUADRATINI VANILLA WAFERS   \n",
       "1  LOACKER QUADRATINI VANILLA WAFERS   \n",
       "2  LOACKER QUADRATINI VANILLA WAFERS   \n",
       "3  LOACKER QUADRATINI VANILLA WAFERS   \n",
       "4  LOACKER QUADRATINI VANILLA WAFERS   \n",
       "\n",
       "                                                Text  \n",
       "0  DELICIOUS WAFERS. I FIND THAT EUROPEAN WAFERS ...  \n",
       "1  DELICIOUS WAFERS. I FIND THAT EUROPEAN WAFERS ...  \n",
       "2  DELICIOUS WAFERS. I FIND THAT EUROPEAN WAFERS ...  \n",
       "3  DELICIOUS WAFERS. I FIND THAT EUROPEAN WAFERS ...  \n",
       "4  DELICIOUS WAFERS. I FIND THAT EUROPEAN WAFERS ...  "
      ]
     },
     "execution_count": 3,
     "metadata": {},
     "output_type": "execute_result"
    }
   ],
   "source": [
    "display= pd.read_sql_query(\"\"\"\n",
    "SELECT *\n",
    "FROM Reviews\n",
    "WHERE Score != 3 AND UserId=\"AR5J8UI46CURR\"\n",
    "ORDER BY ProductID\n",
    "\"\"\", con)\n",
    "display.head()"
   ]
  },
  {
   "cell_type": "markdown",
   "metadata": {
    "colab_type": "text",
    "id": "BzVTlHiMCAZV"
   },
   "source": [
    "As can be seen above the same user has multiple reviews of the product with the same values for HelpfulnessNumerator, HelpfulnessDenominator, Score, Time, Summary and Text  and on doing analysis it was found that <br>\n",
    "<br> \n",
    "ProductId=B000HDOPZG was Loacker Quadratini Vanilla Wafer Cookies, 8.82-Ounce Packages (Pack of 8)<br>\n",
    "<br> \n",
    "ProductId=B000HDL1RQ was Loacker Quadratini Lemon Wafer Cookies, 8.82-Ounce Packages (Pack of 8) and so on<br>\n",
    "\n",
    "It was inferred after analysis that reviews with same parameters other than ProductId belonged to the same product just having different flavour or quantity. Hence in order to reduce redundancy it was decided to eliminate the rows having same parameters.<br>\n",
    "\n",
    "The method used for the same was that we first sort the data according to ProductId and then just keep the first similar product review and delelte the others. for eg. in the above just the review for ProductId=B000HDL1RQ remains. This method ensures that there is only one representative for each product and deduplication without sorting would lead to possibility of different representatives still existing for the same product."
   ]
  },
  {
   "cell_type": "code",
   "execution_count": 4,
   "metadata": {
    "colab": {},
    "colab_type": "code",
    "id": "DGy2NM7BCAZX"
   },
   "outputs": [],
   "source": [
    "#Sorting data according to ProductId in ascending order\n",
    "sorted_data=filtered_data.sort_values('ProductId', axis=0, ascending=True, inplace=False, kind='quicksort', na_position='last')"
   ]
  },
  {
   "cell_type": "code",
   "execution_count": 5,
   "metadata": {
    "colab": {},
    "colab_type": "code",
    "id": "8b-O13XVCAZZ",
    "outputId": "12b254d4-826d-4cfc-bb6d-455f4d5b2a4f"
   },
   "outputs": [
    {
     "data": {
      "text/plain": [
       "(4986, 10)"
      ]
     },
     "execution_count": 5,
     "metadata": {},
     "output_type": "execute_result"
    }
   ],
   "source": [
    "#Deduplication of entries\n",
    "final=sorted_data.drop_duplicates(subset={\"UserId\",\"ProfileName\",\"Time\",\"Text\"}, keep='first', inplace=False)\n",
    "final.shape"
   ]
  },
  {
   "cell_type": "code",
   "execution_count": 6,
   "metadata": {
    "colab": {},
    "colab_type": "code",
    "id": "S72Yh-rHCAZc",
    "outputId": "146c067f-081c-4e26-f527-71442ff83b8d"
   },
   "outputs": [
    {
     "data": {
      "text/plain": [
       "99.72"
      ]
     },
     "execution_count": 6,
     "metadata": {},
     "output_type": "execute_result"
    }
   ],
   "source": [
    "#Checking to see how much % of data still remains\n",
    "(final['Id'].size*1.0)/(filtered_data['Id'].size*1.0)*100"
   ]
  },
  {
   "cell_type": "markdown",
   "metadata": {
    "colab_type": "text",
    "id": "LO5nLKeFCAZf"
   },
   "source": [
    "<b>Observation:-</b> It was also seen that in two rows given below the value of HelpfulnessNumerator is greater than HelpfulnessDenominator which is not practically possible hence these two rows too are removed from calcualtions"
   ]
  },
  {
   "cell_type": "code",
   "execution_count": 7,
   "metadata": {
    "colab": {},
    "colab_type": "code",
    "id": "L9z5lrsiCAZh",
    "outputId": "1a0dfa7c-62f4-4469-a97b-38f77fa3b2ab"
   },
   "outputs": [
    {
     "data": {
      "text/html": [
       "<div>\n",
       "<style scoped>\n",
       "    .dataframe tbody tr th:only-of-type {\n",
       "        vertical-align: middle;\n",
       "    }\n",
       "\n",
       "    .dataframe tbody tr th {\n",
       "        vertical-align: top;\n",
       "    }\n",
       "\n",
       "    .dataframe thead th {\n",
       "        text-align: right;\n",
       "    }\n",
       "</style>\n",
       "<table border=\"1\" class=\"dataframe\">\n",
       "  <thead>\n",
       "    <tr style=\"text-align: right;\">\n",
       "      <th></th>\n",
       "      <th>Id</th>\n",
       "      <th>ProductId</th>\n",
       "      <th>UserId</th>\n",
       "      <th>ProfileName</th>\n",
       "      <th>HelpfulnessNumerator</th>\n",
       "      <th>HelpfulnessDenominator</th>\n",
       "      <th>Score</th>\n",
       "      <th>Time</th>\n",
       "      <th>Summary</th>\n",
       "      <th>Text</th>\n",
       "    </tr>\n",
       "  </thead>\n",
       "  <tbody>\n",
       "    <tr>\n",
       "      <th>0</th>\n",
       "      <td>64422</td>\n",
       "      <td>B000MIDROQ</td>\n",
       "      <td>A161DK06JJMCYF</td>\n",
       "      <td>J. E. Stephens \"Jeanne\"</td>\n",
       "      <td>3</td>\n",
       "      <td>1</td>\n",
       "      <td>5</td>\n",
       "      <td>1224892800</td>\n",
       "      <td>Bought This for My Son at College</td>\n",
       "      <td>My son loves spaghetti so I didn't hesitate or...</td>\n",
       "    </tr>\n",
       "    <tr>\n",
       "      <th>1</th>\n",
       "      <td>44737</td>\n",
       "      <td>B001EQ55RW</td>\n",
       "      <td>A2V0I904FH7ABY</td>\n",
       "      <td>Ram</td>\n",
       "      <td>3</td>\n",
       "      <td>2</td>\n",
       "      <td>4</td>\n",
       "      <td>1212883200</td>\n",
       "      <td>Pure cocoa taste with crunchy almonds inside</td>\n",
       "      <td>It was almost a 'love at first bite' - the per...</td>\n",
       "    </tr>\n",
       "  </tbody>\n",
       "</table>\n",
       "</div>"
      ],
      "text/plain": [
       "      Id   ProductId          UserId              ProfileName  \\\n",
       "0  64422  B000MIDROQ  A161DK06JJMCYF  J. E. Stephens \"Jeanne\"   \n",
       "1  44737  B001EQ55RW  A2V0I904FH7ABY                      Ram   \n",
       "\n",
       "   HelpfulnessNumerator  HelpfulnessDenominator  Score        Time  \\\n",
       "0                     3                       1      5  1224892800   \n",
       "1                     3                       2      4  1212883200   \n",
       "\n",
       "                                        Summary  \\\n",
       "0             Bought This for My Son at College   \n",
       "1  Pure cocoa taste with crunchy almonds inside   \n",
       "\n",
       "                                                Text  \n",
       "0  My son loves spaghetti so I didn't hesitate or...  \n",
       "1  It was almost a 'love at first bite' - the per...  "
      ]
     },
     "execution_count": 7,
     "metadata": {},
     "output_type": "execute_result"
    }
   ],
   "source": [
    "display= pd.read_sql_query(\"\"\"\n",
    "SELECT *\n",
    "FROM Reviews\n",
    "WHERE Score != 3 AND Id=44737 OR Id=64422\n",
    "ORDER BY ProductID\n",
    "\"\"\", con)\n",
    "\n",
    "display.head()"
   ]
  },
  {
   "cell_type": "code",
   "execution_count": 8,
   "metadata": {
    "colab": {},
    "colab_type": "code",
    "id": "8Tphk1piCAZk"
   },
   "outputs": [],
   "source": [
    "final=final[final.HelpfulnessNumerator<=final.HelpfulnessDenominator]"
   ]
  },
  {
   "cell_type": "code",
   "execution_count": 9,
   "metadata": {
    "colab": {},
    "colab_type": "code",
    "id": "8TpsGDdJCAZm",
    "outputId": "287c6c08-d222-4848-b677-c9a5e769d0b1"
   },
   "outputs": [
    {
     "name": "stdout",
     "output_type": "stream",
     "text": [
      "(4986, 10)\n"
     ]
    },
    {
     "data": {
      "text/plain": [
       "1    4178\n",
       "0     808\n",
       "Name: Score, dtype: int64"
      ]
     },
     "execution_count": 9,
     "metadata": {},
     "output_type": "execute_result"
    }
   ],
   "source": [
    "#Before starting the next phase of preprocessing lets see the number of entries left\n",
    "print(final.shape)\n",
    "\n",
    "#How many positive and negative reviews are present in our dataset?\n",
    "final['Score'].value_counts()"
   ]
  },
  {
   "cell_type": "markdown",
   "metadata": {
    "colab_type": "text",
    "id": "RxBsuBylCAZr"
   },
   "source": [
    "# [3].  Text Preprocessing.\n",
    "\n",
    "Now that we have finished deduplication our data requires some preprocessing before we go on further with analysis and making the prediction model.\n",
    "\n",
    "Hence in the Preprocessing phase we do the following in the order below:-\n",
    "\n",
    "1. Begin by removing the html tags\n",
    "2. Remove any punctuations or limited set of special characters like , or . or # etc.\n",
    "3. Check if the word is made up of english letters and is not alpha-numeric\n",
    "4. Check to see if the length of the word is greater than 2 (as it was researched that there is no adjective in 2-letters)\n",
    "5. Convert the word to lowercase\n",
    "6. Remove Stopwords\n",
    "7. Finally Snowball Stemming the word (it is obsereved to be better than Porter Stemming)<br>\n",
    "\n",
    "After which we collect the words used to describe positive and negative reviews"
   ]
  },
  {
   "cell_type": "code",
   "execution_count": 10,
   "metadata": {
    "colab": {},
    "colab_type": "code",
    "id": "laOGMFB7CAZt",
    "outputId": "49d82795-cea4-4695-9834-45978266f6f4"
   },
   "outputs": [
    {
     "name": "stdout",
     "output_type": "stream",
     "text": [
      "Why is this $[...] when the same product is available for $[...] here?<br />http://www.amazon.com/VICTOR-FLY-MAGNET-BAIT-REFILL/dp/B00004RBDY<br /><br />The Victor M380 and M502 traps are unreal, of course -- total fly genocide. Pretty stinky, but only right nearby.\n",
      "==================================================\n",
      "I recently tried this flavor/brand and was surprised at how delicious these chips are.  The best thing was that there were a lot of \"brown\" chips in the bsg (my favorite), so I bought some more through amazon and shared with family and friends.  I am a little disappointed that there are not, so far, very many brown chips in these bags, but the flavor is still very good.  I like them better than the yogurt and green onion flavor because they do not seem to be as salty, and the onion flavor is better.  If you haven't eaten Kettle chips before, I recommend that you try a bag before buying bulk.  They are thicker and crunchier than Lays but just as fresh out of the bag.\n",
      "==================================================\n",
      "Wow.  So far, two two-star reviews.  One obviously had no idea what they were ordering; the other wants crispy cookies.  Hey, I'm sorry; but these reviews do nobody any good beyond reminding us to look  before ordering.<br /><br />These are chocolate-oatmeal cookies.  If you don't like that combination, don't order this type of cookie.  I find the combo quite nice, really.  The oatmeal sort of \"calms\" the rich chocolate flavor and gives the cookie sort of a coconut-type consistency.  Now let's also remember that tastes differ; so, I've given my opinion.<br /><br />Then, these are soft, chewy cookies -- as advertised.  They are not \"crispy\" cookies, or the blurb would say \"crispy,\" rather than \"chewy.\"  I happen to like raw cookie dough; however, I don't see where these taste like raw cookie dough.  Both are soft, however, so is this the confusion?  And, yes, they stick together.  Soft cookies tend to do that.  They aren't individually wrapped, which would add to the cost.  Oh yeah, chocolate chip cookies tend to be somewhat sweet.<br /><br />So, if you want something hard and crisp, I suggest Nabiso's Ginger Snaps.  If you want a cookie that's soft, chewy and tastes like a combination of chocolate and oatmeal, give these a try.  I'm here to place my second order.\n",
      "==================================================\n",
      "love to order my coffee on amazon.  easy and shows up quickly.<br />This k cup is great coffee.  dcaf is very good as well\n",
      "==================================================\n"
     ]
    }
   ],
   "source": [
    "# printing some random reviews\n",
    "sent_0 = final['Text'].values[0]\n",
    "print(sent_0)\n",
    "print(\"=\"*50)\n",
    "\n",
    "sent_1000 = final['Text'].values[1000]\n",
    "print(sent_1000)\n",
    "print(\"=\"*50)\n",
    "\n",
    "sent_1500 = final['Text'].values[1500]\n",
    "print(sent_1500)\n",
    "print(\"=\"*50)\n",
    "\n",
    "sent_4900 = final['Text'].values[4900]\n",
    "print(sent_4900)\n",
    "print(\"=\"*50)"
   ]
  },
  {
   "cell_type": "code",
   "execution_count": 11,
   "metadata": {
    "colab": {},
    "colab_type": "code",
    "id": "lNHWbzBaCAZ3"
   },
   "outputs": [],
   "source": [
    "# https://stackoverflow.com/a/47091490/4084039\n",
    "import re\n",
    "\n",
    "def decontracted(phrase):\n",
    "    # specific\n",
    "    phrase = re.sub(r\"won't\", \"will not\", phrase)\n",
    "    phrase = re.sub(r\"can\\'t\", \"can not\", phrase)\n",
    "\n",
    "    # general\n",
    "    phrase = re.sub(r\"n\\'t\", \" not\", phrase)\n",
    "    phrase = re.sub(r\"\\'re\", \" are\", phrase)\n",
    "    phrase = re.sub(r\"\\'s\", \" is\", phrase)\n",
    "    phrase = re.sub(r\"\\'d\", \" would\", phrase)\n",
    "    phrase = re.sub(r\"\\'ll\", \" will\", phrase)\n",
    "    phrase = re.sub(r\"\\'t\", \" not\", phrase)\n",
    "    phrase = re.sub(r\"\\'ve\", \" have\", phrase)\n",
    "    phrase = re.sub(r\"\\'m\", \" am\", phrase)\n",
    "    return phrase"
   ]
  },
  {
   "cell_type": "code",
   "execution_count": 12,
   "metadata": {
    "colab": {},
    "colab_type": "code",
    "id": "Xsr4xHkJCAaA"
   },
   "outputs": [],
   "source": [
    "# https://gist.github.com/sebleier/554280\n",
    "# we are removing the words from the stop words list: 'no', 'nor', 'not'\n",
    "# <br /><br /> ==> after the above steps, we are getting \"br br\"\n",
    "# we are including them into stop words list\n",
    "# instead of <br /> if we have <br/> these tags would have removed in the 1st step\n",
    "\n",
    "stopwords= set(['br', 'the', 'i', 'me', 'my', 'myself', 'we', 'our', 'ours', 'ourselves', 'you', \"you're\", \"you've\",\\\n",
    "            \"you'll\", \"you'd\", 'your', 'yours', 'yourself', 'yourselves', 'he', 'him', 'his', 'himself', \\\n",
    "            'she', \"she's\", 'her', 'hers', 'herself', 'it', \"it's\", 'its', 'itself', 'they', 'them', 'their',\\\n",
    "            'theirs', 'themselves', 'what', 'which', 'who', 'whom', 'this', 'that', \"that'll\", 'these', 'those', \\\n",
    "            'am', 'is', 'are', 'was', 'were', 'be', 'been', 'being', 'have', 'has', 'had', 'having', 'do', 'does', \\\n",
    "            'did', 'doing', 'a', 'an', 'the', 'and', 'but', 'if', 'or', 'because', 'as', 'until', 'while', 'of', \\\n",
    "            'at', 'by', 'for', 'with', 'about', 'against', 'between', 'into', 'through', 'during', 'before', 'after',\\\n",
    "            'above', 'below', 'to', 'from', 'up', 'down', 'in', 'out', 'on', 'off', 'over', 'under', 'again', 'further',\\\n",
    "            'then', 'once', 'here', 'there', 'when', 'where', 'why', 'how', 'all', 'any', 'both', 'each', 'few', 'more',\\\n",
    "            'most', 'other', 'some', 'such', 'only', 'own', 'same', 'so', 'than', 'too', 'very', \\\n",
    "            's', 't', 'can', 'will', 'just', 'don', \"don't\", 'should', \"should've\", 'now', 'd', 'll', 'm', 'o', 're', \\\n",
    "            've', 'y', 'ain', 'aren', \"aren't\", 'couldn', \"couldn't\", 'didn', \"didn't\", 'doesn', \"doesn't\", 'hadn',\\\n",
    "            \"hadn't\", 'hasn', \"hasn't\", 'haven', \"haven't\", 'isn', \"isn't\", 'ma', 'mightn', \"mightn't\", 'mustn',\\\n",
    "            \"mustn't\", 'needn', \"needn't\", 'shan', \"shan't\", 'shouldn', \"shouldn't\", 'wasn', \"wasn't\", 'weren', \"weren't\", \\\n",
    "            'won', \"won't\", 'wouldn', \"wouldn't\"])"
   ]
  },
  {
   "cell_type": "code",
   "execution_count": 13,
   "metadata": {
    "colab": {},
    "colab_type": "code",
    "id": "MgsJ09NpCAaB",
    "outputId": "1d7ef7e7-d03e-4bff-850a-a2aef70af7d9"
   },
   "outputs": [
    {
     "name": "stderr",
     "output_type": "stream",
     "text": [
      "100%|██████████| 4986/4986 [00:01<00:00, 3471.23it/s]\n"
     ]
    }
   ],
   "source": [
    "# Data cleaning for all the reviews \n",
    "from bs4 import BeautifulSoup\n",
    "\n",
    "from tqdm import tqdm\n",
    "preprocessed_reviews = []\n",
    "# tqdm is for printing the status bar\n",
    "for sentence in tqdm(final['Text'].values):\n",
    "    sentence = re.sub(r\"http\\S+\", \"\", sentence)           #remove urls\n",
    "    sentence = BeautifulSoup(sentence, 'lxml').get_text() #remove xml tags\n",
    "    sentence = decontracted(sentence)                     \n",
    "    sentence = re.sub(\"\\S*\\d\\S*\", \"\", sentence).strip()   #remove words with numbers\n",
    "    sentence = re.sub('[^A-Za-z]+', ' ', sentence)        #remove special characters\n",
    "    sentence = ' '.join(e.lower() for e in sentence.split() if e.lower() not in stopwords)\n",
    "    preprocessed_reviews.append(sentence.strip())"
   ]
  },
  {
   "cell_type": "code",
   "execution_count": 14,
   "metadata": {
    "colab": {},
    "colab_type": "code",
    "id": "f_zfwXXWCAaE",
    "outputId": "a8ba4cbf-3a4c-4447-f06a-2b639e1a5f88"
   },
   "outputs": [
    {
     "data": {
      "text/plain": [
       "'product available victor traps unreal course total fly genocide pretty stinky right nearby'"
      ]
     },
     "execution_count": 14,
     "metadata": {},
     "output_type": "execute_result"
    }
   ],
   "source": [
    "preprocessed_reviews[0]"
   ]
  },
  {
   "cell_type": "code",
   "execution_count": 15,
   "metadata": {},
   "outputs": [
    {
     "data": {
      "text/plain": [
       "4986"
      ]
     },
     "execution_count": 15,
     "metadata": {},
     "output_type": "execute_result"
    }
   ],
   "source": [
    "len(preprocessed_reviews)"
   ]
  },
  {
   "cell_type": "markdown",
   "metadata": {},
   "source": [
    "# [3] Featurization\n"
   ]
  },
  {
   "cell_type": "markdown",
   "metadata": {},
   "source": [
    "# import embedding\n"
   ]
  },
  {
   "cell_type": "code",
   "execution_count": 16,
   "metadata": {},
   "outputs": [
    {
     "name": "stdout",
     "output_type": "stream",
     "text": [
      "Found 400000 word vectors.\n"
     ]
    }
   ],
   "source": [
    "embeddings_index = {}\n",
    "f = open('glove.6B.50d.txt')\n",
    "for line in f:\n",
    "\n",
    "    values = line.split()\n",
    "    word = values[0]\n",
    "    coefs = np.asarray(values[1:], dtype='float32')\n",
    "    embeddings_index[word] = coefs\n",
    "f.close()\n",
    "\n",
    "print('Found %s word vectors.' % len(embeddings_index))"
   ]
  },
  {
   "cell_type": "code",
   "execution_count": 17,
   "metadata": {},
   "outputs": [],
   "source": [
    "label = final['Score']"
   ]
  },
  {
   "cell_type": "code",
   "execution_count": 18,
   "metadata": {
    "colab": {
     "base_uri": "https://localhost:8080/",
     "height": 34
    },
    "colab_type": "code",
    "executionInfo": {
     "elapsed": 56564,
     "status": "ok",
     "timestamp": 1564222717981,
     "user": {
      "displayName": "Ritesh Gangnani",
      "photoUrl": "",
      "userId": "04974790951426946324"
     },
     "user_tz": -330
    },
    "id": "0MIi-WLxLMcq",
    "outputId": "52759b8e-0a25-40d8-e2e9-245f5c735540"
   },
   "outputs": [
    {
     "name": "stderr",
     "output_type": "stream",
     "text": [
      "Using TensorFlow backend.\n"
     ]
    }
   ],
   "source": [
    "from numpy import zeros\n",
    "import keras\n",
    "import tensorflow as tf\n",
    "from keras.preprocessing.text import Tokenizer\n",
    "from keras.preprocessing.sequence import pad_sequences\n",
    "from keras.models import Sequential\n",
    "from keras.callbacks import EarlyStopping\n",
    "from keras.layers.embeddings import Embedding\n",
    "from keras.layers import SpatialDropout1D"
   ]
  },
  {
   "cell_type": "code",
   "execution_count": null,
   "metadata": {},
   "outputs": [],
   "source": []
  },
  {
   "cell_type": "code",
   "execution_count": 19,
   "metadata": {
    "colab": {},
    "colab_type": "code",
    "id": "EFKi1FHHLMc9"
   },
   "outputs": [],
   "source": [
    "# prepare tokenizer\n",
    "t = Tokenizer()\n",
    "t.fit_on_texts(preprocessed_reviews)\n",
    "vocab_size = len(t.word_index) + 1"
   ]
  },
  {
   "cell_type": "code",
   "execution_count": 20,
   "metadata": {
    "colab": {},
    "colab_type": "code",
    "id": "dRw_w640LMdA"
   },
   "outputs": [],
   "source": [
    "# integer encode the documents\n",
    "encoded_docs = t.texts_to_sequences(preprocessed_reviews)"
   ]
  },
  {
   "cell_type": "code",
   "execution_count": 21,
   "metadata": {
    "colab": {},
    "colab_type": "code",
    "id": "EEwkAvzCLMdC"
   },
   "outputs": [],
   "source": [
    "# pad documents to a max length of max words\n",
    "max_length = 150\n",
    "padded_docs = pad_sequences(encoded_docs, maxlen=max_length, padding='post')"
   ]
  },
  {
   "cell_type": "code",
   "execution_count": 22,
   "metadata": {},
   "outputs": [
    {
     "data": {
      "text/plain": [
       "array([ 598,  122,   63,   63,  741,  178,    6, 1346,   15,  464,  256,\n",
       "        891,  606,  117, 1404, 1215,  178, 2636,    3, 1455, 6328,  217,\n",
       "        261,  256,   36,  536,  117,    1,    2,  701,    1,   58,  391,\n",
       "        354,   27, 2196,  206,   69,   16,  536,  784, 6329,  302,   36,\n",
       "          9,  550,  354,  784,  179,  391,  761,  333,   24,  577,   71,\n",
       "       5004,  539,  646,  343,  811,  117, 1194,    1,  606,  117, 9153,\n",
       "          8,   79,  606,  315,  811, 1432,    2,  538,  354, 1236,  141,\n",
       "          1,  168,    5,    2,  538,  354, 1236,  343,  141, 4826,  507,\n",
       "        481,  541,  343,  117,  961,    1, 1054,  845,    8,   70,  341,\n",
       "        653, 1692,   36,  199,  117,  961,  831,   53,   91,   97,  118,\n",
       "        561,  760, 9154,  478, 3969,   91,  354,  343,  811,   71,    2,\n",
       "        701,   36,  536,   84,   32,  461,  389,   58,    0,    0,    0,\n",
       "          0,    0,    0,    0,    0,    0,    0,    0,    0,    0,    0,\n",
       "          0,    0,    0,    0,    0,    0,    0], dtype=int32)"
      ]
     },
     "execution_count": 22,
     "metadata": {},
     "output_type": "execute_result"
    }
   ],
   "source": [
    "padded_docs[1500]"
   ]
  },
  {
   "cell_type": "code",
   "execution_count": 23,
   "metadata": {
    "colab": {},
    "colab_type": "code",
    "id": "rcy-F6JKLMdE"
   },
   "outputs": [],
   "source": [
    "# create a weight matrix for words in training docs\n",
    "embedding_matrix = zeros((vocab_size, 50))\n",
    "for word, i in t.word_index.items():\n",
    "    embedding_vector = embeddings_index.get(word)\n",
    "    if embedding_vector is not None:\n",
    "        embedding_matrix[i] = embedding_vector"
   ]
  },
  {
   "cell_type": "markdown",
   "metadata": {},
   "source": [
    "# [4] Prepare Model"
   ]
  },
  {
   "cell_type": "code",
   "execution_count": 24,
   "metadata": {
    "colab": {},
    "colab_type": "code",
    "id": "bAKRWW-eLMdH"
   },
   "outputs": [],
   "source": [
    "# Create Train/Test data\n",
    "from sklearn.model_selection import train_test_split\n",
    "\n",
    "X_train, X_test, y_train, y_test = train_test_split(\n",
    "    padded_docs, label, test_size=0.2, random_state=42)"
   ]
  },
  {
   "cell_type": "markdown",
   "metadata": {},
   "source": [
    "## [4.1] Deep Neural Net"
   ]
  },
  {
   "cell_type": "code",
   "execution_count": 25,
   "metadata": {
    "colab": {
     "base_uri": "https://localhost:8080/",
     "height": 316
    },
    "colab_type": "code",
    "executionInfo": {
     "elapsed": 905,
     "status": "ok",
     "timestamp": 1564220209704,
     "user": {
      "displayName": "Ritesh Gangnani",
      "photoUrl": "",
      "userId": "04974790951426946324"
     },
     "user_tz": -330
    },
    "id": "HlTjZZbi6YlK",
    "outputId": "e53e96c2-b3b2-4fa3-a157-128d2300b837"
   },
   "outputs": [
    {
     "name": "stdout",
     "output_type": "stream",
     "text": [
      "_________________________________________________________________\n",
      "Layer (type)                 Output Shape              Param #   \n",
      "=================================================================\n",
      "embedding_1 (Embedding)      (None, 150, 50)           650800    \n",
      "_________________________________________________________________\n",
      "global_average_pooling1d_1 ( (None, 50)                0         \n",
      "_________________________________________________________________\n",
      "dense_1 (Dense)              (None, 64)                3264      \n",
      "_________________________________________________________________\n",
      "dense_2 (Dense)              (None, 16)                1040      \n",
      "_________________________________________________________________\n",
      "dense_3 (Dense)              (None, 1)                 17        \n",
      "=================================================================\n",
      "Total params: 655,121\n",
      "Trainable params: 655,121\n",
      "Non-trainable params: 0\n",
      "_________________________________________________________________\n"
     ]
    }
   ],
   "source": [
    "# DNN with embeddings\n",
    "\n",
    "vocab_size = vocab_size\n",
    "\n",
    "model = keras.Sequential()\n",
    "model.add(keras.layers.Embedding(vocab_size, 50, weights=[embedding_matrix], input_length=max_length, trainable=True))\n",
    "model.add(keras.layers.GlobalAveragePooling1D())\n",
    "model.add(keras.layers.Dense(64, activation=tf.nn.relu))\n",
    "model.add(keras.layers.Dense(16, activation=tf.nn.relu) )\n",
    "model.add(keras.layers.Dense(1, activation=tf.nn.sigmoid))\n",
    "model.summary()"
   ]
  },
  {
   "cell_type": "code",
   "execution_count": 26,
   "metadata": {
    "colab": {},
    "colab_type": "code",
    "id": "HJiVrEZgOF2p"
   },
   "outputs": [],
   "source": [
    "model.compile(optimizer='adam', loss='binary_crossentropy', metrics=['acc'])"
   ]
  },
  {
   "cell_type": "code",
   "execution_count": 27,
   "metadata": {
    "colab": {
     "base_uri": "https://localhost:8080/",
     "height": 105
    },
    "colab_type": "code",
    "executionInfo": {
     "elapsed": 2432,
     "status": "ok",
     "timestamp": 1564220914463,
     "user": {
      "displayName": "Ritesh Gangnani",
      "photoUrl": "",
      "userId": "04974790951426946324"
     },
     "user_tz": -330
    },
    "id": "rdSqdV4KOLHG",
    "outputId": "d222e39c-93db-426d-8cd8-3ff09ecc5ae9"
   },
   "outputs": [
    {
     "name": "stdout",
     "output_type": "stream",
     "text": [
      "Train on 3988 samples, validate on 998 samples\n",
      "Epoch 1/50\n",
      "3988/3988 [==============================] - 1s 367us/step - loss: 0.6347 - acc: 0.8350 - val_loss: 0.5671 - val_acc: 0.8437\n",
      "Epoch 2/50\n",
      "3988/3988 [==============================] - 0s 23us/step - loss: 0.5292 - acc: 0.8365 - val_loss: 0.4722 - val_acc: 0.8437\n",
      "Epoch 3/50\n",
      "3988/3988 [==============================] - 0s 23us/step - loss: 0.4753 - acc: 0.8365 - val_loss: 0.4460 - val_acc: 0.8437\n",
      "Epoch 4/50\n",
      "3988/3988 [==============================] - 0s 23us/step - loss: 0.4528 - acc: 0.8365 - val_loss: 0.4289 - val_acc: 0.8437\n",
      "Epoch 5/50\n",
      "3988/3988 [==============================] - 0s 24us/step - loss: 0.4313 - acc: 0.8365 - val_loss: 0.4169 - val_acc: 0.8437\n",
      "Epoch 6/50\n",
      "3988/3988 [==============================] - 0s 22us/step - loss: 0.4117 - acc: 0.8370 - val_loss: 0.4109 - val_acc: 0.8417\n",
      "Epoch 7/50\n",
      "3988/3988 [==============================] - 0s 22us/step - loss: 0.3994 - acc: 0.8410 - val_loss: 0.4031 - val_acc: 0.8397\n",
      "Epoch 8/50\n",
      "3988/3988 [==============================] - 0s 21us/step - loss: 0.3836 - acc: 0.8435 - val_loss: 0.3899 - val_acc: 0.8397\n",
      "Epoch 9/50\n",
      "3988/3988 [==============================] - 0s 27us/step - loss: 0.3634 - acc: 0.8473 - val_loss: 0.3754 - val_acc: 0.8447\n",
      "Epoch 10/50\n",
      "3988/3988 [==============================] - 0s 24us/step - loss: 0.3387 - acc: 0.8573 - val_loss: 0.3579 - val_acc: 0.8427\n",
      "Epoch 11/50\n",
      "3988/3988 [==============================] - 0s 21us/step - loss: 0.3092 - acc: 0.8699 - val_loss: 0.3396 - val_acc: 0.8437\n",
      "Epoch 12/50\n",
      "3988/3988 [==============================] - 0s 22us/step - loss: 0.2765 - acc: 0.8842 - val_loss: 0.3211 - val_acc: 0.8577\n",
      "Epoch 13/50\n",
      "3988/3988 [==============================] - 0s 22us/step - loss: 0.2453 - acc: 0.8987 - val_loss: 0.3095 - val_acc: 0.8627\n",
      "Epoch 14/50\n",
      "3988/3988 [==============================] - 0s 22us/step - loss: 0.2145 - acc: 0.9122 - val_loss: 0.2908 - val_acc: 0.8697\n",
      "Epoch 15/50\n",
      "3988/3988 [==============================] - 0s 23us/step - loss: 0.1874 - acc: 0.9293 - val_loss: 0.2921 - val_acc: 0.8758\n",
      "Epoch 16/50\n",
      "3988/3988 [==============================] - 0s 22us/step - loss: 0.1663 - acc: 0.9378 - val_loss: 0.2788 - val_acc: 0.8798\n",
      "Epoch 17/50\n",
      "3988/3988 [==============================] - 0s 21us/step - loss: 0.1441 - acc: 0.9526 - val_loss: 0.2753 - val_acc: 0.8918\n",
      "Epoch 18/50\n",
      "3988/3988 [==============================] - 0s 24us/step - loss: 0.1271 - acc: 0.9584 - val_loss: 0.2774 - val_acc: 0.8958\n",
      "Epoch 19/50\n",
      "3988/3988 [==============================] - 0s 22us/step - loss: 0.1118 - acc: 0.9644 - val_loss: 0.2787 - val_acc: 0.9028\n",
      "Epoch 20/50\n",
      "3988/3988 [==============================] - 0s 21us/step - loss: 0.0985 - acc: 0.9682 - val_loss: 0.2837 - val_acc: 0.9038\n",
      "Epoch 21/50\n",
      "3988/3988 [==============================] - 0s 23us/step - loss: 0.0875 - acc: 0.9702 - val_loss: 0.2862 - val_acc: 0.9018\n",
      "Epoch 22/50\n",
      "3988/3988 [==============================] - 0s 24us/step - loss: 0.0794 - acc: 0.9757 - val_loss: 0.2995 - val_acc: 0.9068\n",
      "Epoch 23/50\n",
      "3988/3988 [==============================] - 0s 23us/step - loss: 0.0705 - acc: 0.9784 - val_loss: 0.2982 - val_acc: 0.9018\n",
      "Epoch 24/50\n",
      "3988/3988 [==============================] - 0s 24us/step - loss: 0.0658 - acc: 0.9812 - val_loss: 0.3117 - val_acc: 0.9068\n",
      "Epoch 25/50\n",
      "3988/3988 [==============================] - 0s 22us/step - loss: 0.0577 - acc: 0.9837 - val_loss: 0.3186 - val_acc: 0.9068\n",
      "Epoch 26/50\n",
      "3988/3988 [==============================] - 0s 22us/step - loss: 0.0508 - acc: 0.9870 - val_loss: 0.3264 - val_acc: 0.9028\n",
      "Epoch 27/50\n",
      "3988/3988 [==============================] - 0s 25us/step - loss: 0.0457 - acc: 0.9887 - val_loss: 0.3337 - val_acc: 0.9018\n",
      "Epoch 28/50\n",
      "3988/3988 [==============================] - 0s 22us/step - loss: 0.0416 - acc: 0.9902 - val_loss: 0.3431 - val_acc: 0.8998\n",
      "Epoch 29/50\n",
      "3988/3988 [==============================] - 0s 24us/step - loss: 0.0387 - acc: 0.9907 - val_loss: 0.3624 - val_acc: 0.9018\n",
      "Epoch 30/50\n",
      "3988/3988 [==============================] - 0s 22us/step - loss: 0.0362 - acc: 0.9905 - val_loss: 0.3767 - val_acc: 0.9018\n",
      "Epoch 31/50\n",
      "3988/3988 [==============================] - 0s 31us/step - loss: 0.0324 - acc: 0.9930 - val_loss: 0.3664 - val_acc: 0.9018\n",
      "Epoch 32/50\n",
      "3988/3988 [==============================] - 0s 27us/step - loss: 0.0299 - acc: 0.9932 - val_loss: 0.3750 - val_acc: 0.9008\n",
      "Epoch 33/50\n",
      "3988/3988 [==============================] - 0s 25us/step - loss: 0.0272 - acc: 0.9940 - val_loss: 0.3803 - val_acc: 0.9028\n",
      "Epoch 34/50\n",
      "3988/3988 [==============================] - 0s 27us/step - loss: 0.0243 - acc: 0.9950 - val_loss: 0.3926 - val_acc: 0.9018\n",
      "Epoch 35/50\n",
      "3988/3988 [==============================] - 0s 21us/step - loss: 0.0204 - acc: 0.9962 - val_loss: 0.4177 - val_acc: 0.8998\n",
      "Epoch 36/50\n",
      "3988/3988 [==============================] - 0s 19us/step - loss: 0.0190 - acc: 0.9962 - val_loss: 0.4109 - val_acc: 0.9008\n",
      "Epoch 37/50\n",
      "3988/3988 [==============================] - 0s 21us/step - loss: 0.0167 - acc: 0.9967 - val_loss: 0.4183 - val_acc: 0.9018\n",
      "Epoch 38/50\n",
      "3988/3988 [==============================] - 0s 22us/step - loss: 0.0157 - acc: 0.9975 - val_loss: 0.4438 - val_acc: 0.8998\n",
      "Epoch 39/50\n",
      "3988/3988 [==============================] - 0s 23us/step - loss: 0.0143 - acc: 0.9977 - val_loss: 0.4585 - val_acc: 0.9018\n",
      "Epoch 40/50\n",
      "3988/3988 [==============================] - 0s 24us/step - loss: 0.0141 - acc: 0.9982 - val_loss: 0.4768 - val_acc: 0.9018\n",
      "Epoch 41/50\n",
      "3988/3988 [==============================] - 0s 23us/step - loss: 0.0125 - acc: 0.9972 - val_loss: 0.4586 - val_acc: 0.8968\n",
      "Epoch 42/50\n",
      "3988/3988 [==============================] - 0s 24us/step - loss: 0.0108 - acc: 0.9977 - val_loss: 0.4628 - val_acc: 0.9008\n",
      "Epoch 43/50\n",
      "3988/3988 [==============================] - 0s 22us/step - loss: 0.0100 - acc: 0.9982 - val_loss: 0.4767 - val_acc: 0.8978\n",
      "Epoch 44/50\n",
      "3988/3988 [==============================] - 0s 22us/step - loss: 0.0094 - acc: 0.9987 - val_loss: 0.4682 - val_acc: 0.9008\n",
      "Epoch 45/50\n",
      "3988/3988 [==============================] - 0s 22us/step - loss: 0.0095 - acc: 0.9982 - val_loss: 0.4734 - val_acc: 0.9018\n",
      "Epoch 46/50\n",
      "3988/3988 [==============================] - 0s 22us/step - loss: 0.0083 - acc: 0.9990 - val_loss: 0.4890 - val_acc: 0.9018\n",
      "Epoch 47/50\n",
      "3988/3988 [==============================] - 0s 23us/step - loss: 0.0074 - acc: 0.9990 - val_loss: 0.4984 - val_acc: 0.9018\n",
      "Epoch 48/50\n",
      "3988/3988 [==============================] - 0s 24us/step - loss: 0.0072 - acc: 0.9990 - val_loss: 0.4968 - val_acc: 0.9038\n",
      "Epoch 49/50\n",
      "3988/3988 [==============================] - 0s 23us/step - loss: 0.0065 - acc: 0.9990 - val_loss: 0.5082 - val_acc: 0.9008\n",
      "Epoch 50/50\n",
      "3988/3988 [==============================] - 0s 22us/step - loss: 0.0062 - acc: 0.9990 - val_loss: 0.5127 - val_acc: 0.9018\n"
     ]
    }
   ],
   "source": [
    "history = model.fit(X_train, y_train, validation_data=(X_test, y_test), \n",
    "          epochs=50, batch_size=256)"
   ]
  },
  {
   "cell_type": "code",
   "execution_count": 28,
   "metadata": {
    "colab": {
     "base_uri": "https://localhost:8080/",
     "height": 574
    },
    "colab_type": "code",
    "executionInfo": {
     "elapsed": 1552,
     "status": "ok",
     "timestamp": 1564220483138,
     "user": {
      "displayName": "Ritesh Gangnani",
      "photoUrl": "",
      "userId": "04974790951426946324"
     },
     "user_tz": -330
    },
    "id": "DovFkV_BONKY",
    "outputId": "46737aae-9b0d-4100-9335-a328b4f323b6"
   },
   "outputs": [
    {
     "data": {
      "image/png": "[encoded data removed]",
      "text/plain": [
       "<Figure size 432x288 with 1 Axes>"
      ]
     },
     "metadata": {},
     "output_type": "display_data"
    },
    {
     "data": {
      "image/png": "[encoded data removed]",
      "text/plain": [
       "<Figure size 432x288 with 1 Axes>"
      ]
     },
     "metadata": {},
     "output_type": "display_data"
    }
   ],
   "source": [
    "# Plot training & validation accuracy values\n",
    "plt.plot(history.history['acc'])\n",
    "plt.plot(history.history['val_acc'])\n",
    "plt.title('Model accuracy')\n",
    "plt.ylabel('Accuracy')\n",
    "plt.xlabel('Epoch')\n",
    "plt.legend(['Train', 'Test'], loc='upper left')\n",
    "plt.show()\n",
    "\n",
    "# Plot training & validation loss values\n",
    "plt.plot(history.history['loss'])\n",
    "plt.plot(history.history['val_loss'])\n",
    "plt.title('Model loss')\n",
    "plt.ylabel('Loss')\n",
    "plt.xlabel('Epoch')\n",
    "plt.legend(['Train', 'Test'], loc='upper left')\n",
    "plt.show()"
   ]
  },
  {
   "cell_type": "code",
   "execution_count": null,
   "metadata": {},
   "outputs": [],
   "source": []
  },
  {
   "cell_type": "markdown",
   "metadata": {},
   "source": [
    "## [4.2] LSTM Model"
   ]
  },
  {
   "cell_type": "code",
   "execution_count": 29,
   "metadata": {
    "colab": {},
    "colab_type": "code",
    "id": "qTlMgJZdLMdJ"
   },
   "outputs": [],
   "source": [
    "vocab_size = vocab_size\n",
    "model_lstm = keras.Sequential()\n",
    "model_lstm.add(keras.layers.Embedding(vocab_size, 50, weights=[embedding_matrix], \n",
    "                                 input_length=max_length, trainable=False))\n",
    "model_lstm.add(keras.layers.CuDNNLSTM((128),  return_sequences=True))\n",
    "model_lstm.add(keras.layers.CuDNNLSTM((64),  return_sequences=False))\n",
    "model_lstm.add(keras.layers.Dense(1, activation='sigmoid'))"
   ]
  },
  {
   "cell_type": "code",
   "execution_count": 30,
   "metadata": {
    "colab": {},
    "colab_type": "code",
    "id": "eOSnkfxaLMdM"
   },
   "outputs": [],
   "source": [
    "model_lstm.compile(loss='binary_crossentropy', optimizer='adam', metrics=['accuracy'])"
   ]
  },
  {
   "cell_type": "code",
   "execution_count": 31,
   "metadata": {
    "colab": {
     "base_uri": "https://localhost:8080/",
     "height": 281
    },
    "colab_type": "code",
    "executionInfo": {
     "elapsed": 967,
     "status": "ok",
     "timestamp": 1564222851618,
     "user": {
      "displayName": "Ritesh Gangnani",
      "photoUrl": "",
      "userId": "04974790951426946324"
     },
     "user_tz": -330
    },
    "id": "CxhGxUB8LMdP",
    "outputId": "007eb913-8810-4749-e29b-39e4bb9a8a7f"
   },
   "outputs": [
    {
     "name": "stdout",
     "output_type": "stream",
     "text": [
      "_________________________________________________________________\n",
      "Layer (type)                 Output Shape              Param #   \n",
      "=================================================================\n",
      "embedding_2 (Embedding)      (None, 150, 50)           650800    \n",
      "_________________________________________________________________\n",
      "cu_dnnlstm_1 (CuDNNLSTM)     (None, 150, 128)          92160     \n",
      "_________________________________________________________________\n",
      "cu_dnnlstm_2 (CuDNNLSTM)     (None, 64)                49664     \n",
      "_________________________________________________________________\n",
      "dense_4 (Dense)              (None, 1)                 65        \n",
      "=================================================================\n",
      "Total params: 792,689\n",
      "Trainable params: 141,889\n",
      "Non-trainable params: 650,800\n",
      "_________________________________________________________________\n"
     ]
    }
   ],
   "source": [
    "model_lstm.summary()"
   ]
  },
  {
   "cell_type": "code",
   "execution_count": 32,
   "metadata": {
    "colab": {
     "base_uri": "https://localhost:8080/",
     "height": 386
    },
    "colab_type": "code",
    "executionInfo": {
     "elapsed": 49137,
     "status": "ok",
     "timestamp": 1564222913166,
     "user": {
      "displayName": "Ritesh Gangnani",
      "photoUrl": "",
      "userId": "04974790951426946324"
     },
     "user_tz": -330
    },
    "id": "nRmohZeFLMdT",
    "outputId": "180df07f-4323-4a82-fd75-210b922d5b23"
   },
   "outputs": [
    {
     "name": "stdout",
     "output_type": "stream",
     "text": [
      "Train on 3988 samples, validate on 998 samples\n",
      "Epoch 1/50\n",
      "3988/3988 [==============================] - 3s 630us/step - loss: 0.5358 - acc: 0.7921 - val_loss: 0.4430 - val_acc: 0.8437\n",
      "Epoch 2/50\n",
      "3988/3988 [==============================] - 1s 189us/step - loss: 0.4468 - acc: 0.8368 - val_loss: 0.4410 - val_acc: 0.8397\n",
      "Epoch 3/50\n",
      "3988/3988 [==============================] - 1s 197us/step - loss: 0.4433 - acc: 0.8365 - val_loss: 0.4361 - val_acc: 0.8437\n",
      "Epoch 4/50\n",
      "3988/3988 [==============================] - 1s 199us/step - loss: 0.4444 - acc: 0.8368 - val_loss: 0.4358 - val_acc: 0.8437\n",
      "Epoch 5/50\n",
      "3988/3988 [==============================] - 1s 194us/step - loss: 0.4426 - acc: 0.8375 - val_loss: 0.4394 - val_acc: 0.8417\n",
      "Epoch 6/50\n",
      "3988/3988 [==============================] - 1s 187us/step - loss: 0.4427 - acc: 0.8373 - val_loss: 0.4383 - val_acc: 0.8417\n",
      "Epoch 7/50\n",
      "3988/3988 [==============================] - 1s 187us/step - loss: 0.4416 - acc: 0.8383 - val_loss: 0.4343 - val_acc: 0.8437\n",
      "Epoch 8/50\n",
      "3988/3988 [==============================] - 1s 186us/step - loss: 0.4431 - acc: 0.8365 - val_loss: 0.4345 - val_acc: 0.8437\n",
      "Epoch 9/50\n",
      "3988/3988 [==============================] - 1s 187us/step - loss: 0.4428 - acc: 0.8375 - val_loss: 0.4363 - val_acc: 0.8417\n",
      "Epoch 10/50\n",
      "3988/3988 [==============================] - 1s 186us/step - loss: 0.4399 - acc: 0.8390 - val_loss: 0.4405 - val_acc: 0.8387\n",
      "Epoch 11/50\n",
      "3988/3988 [==============================] - 1s 187us/step - loss: 0.4396 - acc: 0.8393 - val_loss: 0.4344 - val_acc: 0.8437\n",
      "Epoch 12/50\n",
      "3988/3988 [==============================] - 1s 189us/step - loss: 0.4393 - acc: 0.8388 - val_loss: 0.4354 - val_acc: 0.8417\n",
      "Epoch 13/50\n",
      "3988/3988 [==============================] - 1s 187us/step - loss: 0.4418 - acc: 0.8378 - val_loss: 0.4385 - val_acc: 0.8407\n",
      "Epoch 14/50\n",
      "3988/3988 [==============================] - 1s 180us/step - loss: 0.4385 - acc: 0.8408 - val_loss: 0.4354 - val_acc: 0.8437\n",
      "Epoch 15/50\n",
      "3988/3988 [==============================] - 1s 177us/step - loss: 0.4372 - acc: 0.8413 - val_loss: 0.4371 - val_acc: 0.8427\n",
      "Epoch 16/50\n",
      "3988/3988 [==============================] - 1s 180us/step - loss: 0.4364 - acc: 0.8418 - val_loss: 0.4374 - val_acc: 0.8427\n",
      "Epoch 17/50\n",
      "3988/3988 [==============================] - 1s 179us/step - loss: 0.4355 - acc: 0.8415 - val_loss: 0.4363 - val_acc: 0.8437\n",
      "Epoch 18/50\n",
      "3988/3988 [==============================] - 1s 180us/step - loss: 0.4359 - acc: 0.8415 - val_loss: 0.4563 - val_acc: 0.8337\n",
      "Epoch 19/50\n",
      "3988/3988 [==============================] - 1s 179us/step - loss: 0.4387 - acc: 0.8403 - val_loss: 0.4462 - val_acc: 0.8377\n",
      "Epoch 20/50\n",
      "3988/3988 [==============================] - 1s 179us/step - loss: 0.4332 - acc: 0.8433 - val_loss: 0.4455 - val_acc: 0.8377\n",
      "Epoch 21/50\n",
      "3988/3988 [==============================] - 1s 178us/step - loss: 0.4347 - acc: 0.8420 - val_loss: 0.4432 - val_acc: 0.8397\n",
      "Epoch 22/50\n",
      "3988/3988 [==============================] - 1s 179us/step - loss: 0.4345 - acc: 0.8423 - val_loss: 0.4516 - val_acc: 0.8327\n",
      "Epoch 23/50\n",
      "3988/3988 [==============================] - 1s 179us/step - loss: 0.4339 - acc: 0.8428 - val_loss: 0.4446 - val_acc: 0.8377\n",
      "Epoch 24/50\n",
      "3988/3988 [==============================] - 1s 179us/step - loss: 0.4316 - acc: 0.8435 - val_loss: 0.4448 - val_acc: 0.8387\n",
      "Epoch 25/50\n",
      "3988/3988 [==============================] - 1s 179us/step - loss: 0.4331 - acc: 0.8430 - val_loss: 0.4455 - val_acc: 0.8387\n",
      "Epoch 26/50\n",
      "3988/3988 [==============================] - 1s 179us/step - loss: 0.4321 - acc: 0.8443 - val_loss: 0.4517 - val_acc: 0.8397\n",
      "Epoch 27/50\n",
      "3988/3988 [==============================] - 1s 180us/step - loss: 0.4290 - acc: 0.8445 - val_loss: 0.4406 - val_acc: 0.8407\n",
      "Epoch 28/50\n",
      "3988/3988 [==============================] - 1s 180us/step - loss: 0.4310 - acc: 0.8443 - val_loss: 0.4460 - val_acc: 0.8397\n",
      "Epoch 29/50\n",
      "3988/3988 [==============================] - 1s 183us/step - loss: 0.4329 - acc: 0.8425 - val_loss: 0.4399 - val_acc: 0.8387\n",
      "Epoch 30/50\n",
      "3988/3988 [==============================] - 1s 183us/step - loss: 0.4340 - acc: 0.8418 - val_loss: 0.4408 - val_acc: 0.8397\n",
      "Epoch 31/50\n",
      "3988/3988 [==============================] - 1s 183us/step - loss: 0.4314 - acc: 0.8433 - val_loss: 0.4503 - val_acc: 0.8367\n",
      "Epoch 32/50\n",
      "3988/3988 [==============================] - 1s 182us/step - loss: 0.4302 - acc: 0.8438 - val_loss: 0.4423 - val_acc: 0.8427\n",
      "Epoch 33/50\n",
      "3988/3988 [==============================] - 1s 186us/step - loss: 0.4309 - acc: 0.8440 - val_loss: 0.4419 - val_acc: 0.8417\n",
      "Epoch 34/50\n",
      "3988/3988 [==============================] - 1s 180us/step - loss: 0.4326 - acc: 0.8435 - val_loss: 0.4415 - val_acc: 0.8397\n",
      "Epoch 35/50\n",
      "3988/3988 [==============================] - 1s 180us/step - loss: 0.4298 - acc: 0.8443 - val_loss: 0.4390 - val_acc: 0.8417\n",
      "Epoch 36/50\n",
      "3988/3988 [==============================] - 1s 179us/step - loss: 0.4287 - acc: 0.8440 - val_loss: 0.4533 - val_acc: 0.8377\n",
      "Epoch 37/50\n",
      "3988/3988 [==============================] - 1s 180us/step - loss: 0.4311 - acc: 0.8435 - val_loss: 0.4450 - val_acc: 0.8387\n",
      "Epoch 38/50\n",
      "3988/3988 [==============================] - 1s 180us/step - loss: 0.4285 - acc: 0.8448 - val_loss: 0.4476 - val_acc: 0.8387\n",
      "Epoch 39/50\n",
      "3988/3988 [==============================] - 1s 183us/step - loss: 0.4274 - acc: 0.8445 - val_loss: 0.4495 - val_acc: 0.8407\n",
      "Epoch 40/50\n",
      "3988/3988 [==============================] - 1s 181us/step - loss: 0.4258 - acc: 0.8450 - val_loss: 0.4494 - val_acc: 0.8397\n",
      "Epoch 41/50\n",
      "3988/3988 [==============================] - 1s 180us/step - loss: 0.4260 - acc: 0.8453 - val_loss: 0.4426 - val_acc: 0.8407\n",
      "Epoch 42/50\n",
      "3988/3988 [==============================] - 1s 180us/step - loss: 0.4267 - acc: 0.8448 - val_loss: 0.4498 - val_acc: 0.8397\n",
      "Epoch 43/50\n",
      "3988/3988 [==============================] - 1s 179us/step - loss: 0.4302 - acc: 0.8438 - val_loss: 0.4410 - val_acc: 0.8417\n",
      "Epoch 44/50\n",
      "3988/3988 [==============================] - 1s 180us/step - loss: 0.4278 - acc: 0.8450 - val_loss: 0.4389 - val_acc: 0.8407\n",
      "Epoch 45/50\n",
      "3988/3988 [==============================] - 1s 178us/step - loss: 0.4278 - acc: 0.8450 - val_loss: 0.4418 - val_acc: 0.8417\n",
      "Epoch 46/50\n",
      "3988/3988 [==============================] - 1s 179us/step - loss: 0.4268 - acc: 0.8453 - val_loss: 0.4457 - val_acc: 0.8387\n",
      "Epoch 47/50\n",
      "3988/3988 [==============================] - 1s 181us/step - loss: 0.4265 - acc: 0.8450 - val_loss: 0.4473 - val_acc: 0.8407\n",
      "Epoch 48/50\n",
      "3988/3988 [==============================] - 1s 179us/step - loss: 0.4265 - acc: 0.8450 - val_loss: 0.4499 - val_acc: 0.8397\n",
      "Epoch 49/50\n",
      "3988/3988 [==============================] - 1s 179us/step - loss: 0.4248 - acc: 0.8453 - val_loss: 0.4421 - val_acc: 0.8427\n",
      "Epoch 50/50\n",
      "3988/3988 [==============================] - 1s 179us/step - loss: 0.4414 - acc: 0.8345 - val_loss: 0.4642 - val_acc: 0.8327\n"
     ]
    }
   ],
   "source": [
    "history = model_lstm.fit(X_train,y_train, epochs=50, validation_data=(X_test,y_test), batch_size=256)"
   ]
  },
  {
   "cell_type": "code",
   "execution_count": 33,
   "metadata": {
    "colab": {
     "base_uri": "https://localhost:8080/",
     "height": 574
    },
    "colab_type": "code",
    "executionInfo": {
     "elapsed": 1834,
     "status": "ok",
     "timestamp": 1564222920745,
     "user": {
      "displayName": "Ritesh Gangnani",
      "photoUrl": "",
      "userId": "04974790951426946324"
     },
     "user_tz": -330
    },
    "id": "3EvboF3fLMdW",
    "outputId": "55d41ca9-fc78-4e85-d5af-26e774812ec5"
   },
   "outputs": [
    {
     "data": {
      "image/png": "[encoded data removed]",
      "text/plain": [
       "<Figure size 432x288 with 1 Axes>"
      ]
     },
     "metadata": {},
     "output_type": "display_data"
    },
    {
     "data": {
      "image/png": "[encoded data removed]",
      "text/plain": [
       "<Figure size 432x288 with 1 Axes>"
      ]
     },
     "metadata": {},
     "output_type": "display_data"
    }
   ],
   "source": [
    "# Plot training & validation accuracy values\n",
    "plt.plot(history.history['acc'])\n",
    "plt.plot(history.history['val_acc'])\n",
    "plt.title('Model accuracy')\n",
    "plt.ylabel('Accuracy')\n",
    "plt.xlabel('Epoch')\n",
    "plt.legend(['Train', 'Test'], loc='upper left')\n",
    "plt.show()\n",
    "\n",
    "# Plot training & validation loss values\n",
    "plt.plot(history.history['loss'])\n",
    "plt.plot(history.history['val_loss'])\n",
    "plt.title('Model loss')\n",
    "plt.ylabel('Loss')\n",
    "plt.xlabel('Epoch')\n",
    "plt.legend(['Train', 'Test'], loc='upper left')\n",
    "plt.show()"
   ]
  },
  {
   "cell_type": "code",
   "execution_count": null,
   "metadata": {},
   "outputs": [],
   "source": []
  },
  {
   "cell_type": "code",
   "execution_count": null,
   "metadata": {},
   "outputs": [],
   "source": []
  },
  {
   "cell_type": "code",
   "execution_count": null,
   "metadata": {},
   "outputs": [],
   "source": []
  }
 ],
 "metadata": {
  "kernelspec": {
   "display_name": "Python 3",
   "language": "python",
   "name": "python3"
  },
  "language_info": {
   "codemirror_mode": {
    "name": "ipython",
    "version": 3
   },
   "file_extension": ".py",
   "mimetype": "text/x-python",
   "name": "python",
   "nbconvert_exporter": "python",
   "pygments_lexer": "ipython3",
   "version": "3.6.5"
  }
 },
 "nbformat": 4,
 "nbformat_minor": 2
}
